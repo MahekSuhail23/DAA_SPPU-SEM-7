{
 "cells": [
  {
   "cell_type": "code",
   "execution_count": null,
   "id": "9af17b31",
   "metadata": {},
   "outputs": [],
   "source": [
    "n = int(input(\"Enter the number of items: \"))\n",
    "weights = []\n",
    "values = []\n",
    "\n",
    "print(\"Enter the weights of the items (one per line):\")\n",
    "for i in range(n):\n",
    "    weight = int(input())\n",
    "    weights.append(weight)\n",
    "\n",
    "print(\"Enter the values of the items (one per line):\")\n",
    "for i in range(n):\n",
    "    value = int(input())\n",
    "    values.append(value)\n",
    "\n",
    "capacity = int(input(\"Enter the capacity of the knapsack: \"))\n",
    "\n",
    "def compare_ratios(item):\n",
    "    return item[0]\n",
    "\n",
    "\n",
    "def fractional_knapsack(weights, values, capacity):\n",
    "    # Create a list of tuples (value/weight, weight, value)\n",
    "    ratio = []\n",
    "    for i in range(len(values)):\n",
    "        ratio.append((values[i] / weights[i], weights[i], values[i]))\n",
    "    \n",
    "    # Sort the list based on the value-to-weight ratio in descending order\n",
    "    ratio.sort(key=compare_ratios, reverse=True)\n",
    "\n",
    "    total_value = 0.0\n",
    "\n",
    "    for r in ratio:\n",
    "        if capacity <= 0:\n",
    "            break\n",
    "        if r[1] <= capacity:\n",
    "            total_value += r[2]\n",
    "            capacity -= r[1]\n",
    "        else:\n",
    "            total_value += r[0] * capacity\n",
    "            capacity = 0\n",
    "\n",
    "    return total_value\n",
    "\n",
    "\n",
    "# Check if the input sizes are valid\n",
    "if len(weights) != n or len(values) != n:\n",
    "    print(\"Error: The number of weights and values must match the number of items.\")\n",
    "else:\n",
    "    max_value = fractional_knapsack(weights, values, capacity)\n",
    "    print(f\"The maximum value that can be obtained is: {max_value:.2f}\")\n"
   ]
  }
 ],
 "metadata": {
  "kernelspec": {
   "display_name": "Python 3 (ipykernel)",
   "language": "python",
   "name": "python3"
  },
  "language_info": {
   "codemirror_mode": {
    "name": "ipython",
    "version": 3
   },
   "file_extension": ".py",
   "mimetype": "text/x-python",
   "name": "python",
   "nbconvert_exporter": "python",
   "pygments_lexer": "ipython3",
   "version": "3.10.9"
  }
 },
 "nbformat": 4,
 "nbformat_minor": 5
}

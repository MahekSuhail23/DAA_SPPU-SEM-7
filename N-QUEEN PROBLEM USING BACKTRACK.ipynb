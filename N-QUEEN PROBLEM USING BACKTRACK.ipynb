{
 "cells": [
  {
   "cell_type": "code",
   "execution_count": null,
   "id": "67417841",
   "metadata": {},
   "outputs": [],
   "source": [
    "n = 4\n",
    "first_queen_col = 2 \n",
    "\n",
    "def solve_n_queens(n, first_queen_col):\n",
    "    def is_safe(board, row, col):\n",
    "        for r in range(row):\n",
    "            if board[r] == col or abs(board[r] - col) == row - r:\n",
    "                return False\n",
    "        return True\n",
    "\n",
    "    def solve(row):\n",
    "        if row == n:\n",
    "            solutions.append([[1 if j == board[i] else 0 for j in range(n)] for i in range(n)])\n",
    "            return\n",
    "        for col in range(n):\n",
    "            if is_safe(board, row, col):\n",
    "                board[row] = col\n",
    "                solve(row + 1)\n",
    "\n",
    "    solutions = []\n",
    "    board = [-1] * n  # Initialize with -1 (no queens placed)\n",
    "    \n",
    "    # Place the first queen in the specified column of the first row\n",
    "    board[0] = first_queen_col\n",
    "    # Start solving from the second row\n",
    "    solve(1)\n",
    "    \n",
    "    return solutions\n",
    "\n",
    "result = solve_n_queens(n, first_queen_col)\n",
    "for solution in result:\n",
    "    for row in solution:\n",
    "        print(row)\n",
    "    print()  # Blank line between solutions\n"
   ]
  }
 ],
 "metadata": {
  "kernelspec": {
   "display_name": "Python 3 (ipykernel)",
   "language": "python",
   "name": "python3"
  },
  "language_info": {
   "codemirror_mode": {
    "name": "ipython",
    "version": 3
   },
   "file_extension": ".py",
   "mimetype": "text/x-python",
   "name": "python",
   "nbconvert_exporter": "python",
   "pygments_lexer": "ipython3",
   "version": "3.10.9"
  }
 },
 "nbformat": 4,
 "nbformat_minor": 5
}
